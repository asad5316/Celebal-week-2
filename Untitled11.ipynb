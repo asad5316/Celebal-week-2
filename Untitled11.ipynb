{
  "nbformat": 4,
  "nbformat_minor": 0,
  "metadata": {
    "colab": {
      "name": "Untitled11.ipynb",
      "provenance": [],
      "collapsed_sections": []
    },
    "kernelspec": {
      "name": "python3",
      "display_name": "Python 3"
    },
    "language_info": {
      "name": "python"
    }
  },
  "cells": [
    {
      "cell_type": "code",
      "execution_count": 1,
      "metadata": {
        "colab": {
          "base_uri": "https://localhost:8080/"
        },
        "id": "KWidlDH_Re7Y",
        "outputId": "3058eac7-5d56-4fd1-eb03-4f57704e3b26"
      },
      "outputs": [
        {
          "output_type": "stream",
          "name": "stdout",
          "text": [
            "a + b = 14\n",
            "a - b = 6\n",
            "a * b = 40\n",
            "a / b = 2.5\n",
            "a // b = 2\n",
            "a ** b = 10000\n"
          ]
        }
      ],
      "source": [
        "a = 10\n",
        "b = 4\n",
        "\n",
        "#mathematical operators\n",
        "\n",
        "print('a + b =',a+b) #addition\n",
        "\n",
        "print('a - b =',a-b) #substraction\n",
        "\n",
        "print('a * b =',a*b) #multiplication\n",
        "\n",
        "print('a / b =',a/b) #division(returns complete ans)\n",
        "\n",
        "print('a // b =',a//b) #Floor division(integer divion)\n",
        "\n",
        "print('a ** b =',a**b) #Exponentiation"
      ]
    },
    {
      "cell_type": "code",
      "source": [
        "a = 20\n",
        "b = 15\n",
        "\n",
        "#comparision \n",
        "\n",
        "print('a > b is',a>b) #Greater than\n",
        "\n",
        "print('a < b is',a<b) #Less than\n",
        "\n",
        "print('a == b is',a==b) #Equal\n",
        "\n",
        "print('a != b is',a!=b) #Not equal\n",
        "\n",
        "print('a >= b is',a>=b) #Greater than or equal to\n",
        "\n",
        "print('a <= b is',a<=b) #Less than or equal to"
      ],
      "metadata": {
        "colab": {
          "base_uri": "https://localhost:8080/"
        },
        "id": "S1bmw1BoRuQ_",
        "outputId": "45b3aa35-c135-447b-b2f2-0c526e689a35"
      },
      "execution_count": 2,
      "outputs": [
        {
          "output_type": "stream",
          "name": "stdout",
          "text": [
            "a > b is True\n",
            "a < b is False\n",
            "a == b is False\n",
            "a != b is True\n",
            "a >= b is True\n",
            "a <= b is False\n"
          ]
        }
      ]
    },
    {
      "cell_type": "code",
      "source": [
        "x = 6\n",
        "\n",
        "#logical operator\n",
        "\n",
        "print('x is ',x > 10 and x < 10)    #and operator\n",
        "\n",
        "print('x is',x > 10 or x < 10)    #or operator\n",
        "\n",
        "print('not x is',not (x > 10 and x < 10))   #not operator"
      ],
      "metadata": {
        "colab": {
          "base_uri": "https://localhost:8080/"
        },
        "id": "9EMqUVQ9SbwH",
        "outputId": "a6d7b147-2357-43dc-d041-2d9ba2180a3a"
      },
      "execution_count": 3,
      "outputs": [
        {
          "output_type": "stream",
          "name": "stdout",
          "text": [
            "x is  False\n",
            "x is True\n",
            "not x is True\n"
          ]
        }
      ]
    },
    {
      "cell_type": "code",
      "source": [
        "x = 5\n",
        "y = -5\n",
        "\n",
        "# print bitwise right shift operator\n",
        "print(\"x >> 1 =\", x >> 1)\n",
        "print(\"y >> 1 =\", y >> 1)\n",
        "\n",
        "x = 5\n",
        "y = -10\n",
        "\n",
        "# print bitwise left shift operator\n",
        "print(\"x << 1 =\", x << 1)\n",
        "print(\"y << 1 =\", y << 1)"
      ],
      "metadata": {
        "colab": {
          "base_uri": "https://localhost:8080/"
        },
        "id": "H-32h5uJTGAK",
        "outputId": "8c8a7113-0330-4cd0-802b-06e3dd839e1c"
      },
      "execution_count": 4,
      "outputs": [
        {
          "output_type": "stream",
          "name": "stdout",
          "text": [
            "x >> 1 = 2\n",
            "y >> 1 = -3\n",
            "x << 1 = 10\n",
            "y << 1 = -20\n"
          ]
        }
      ]
    },
    {
      "cell_type": "code",
      "source": [
        "p1 = 10\n",
        "q1 = 10\n",
        "p2 = 'Asad'\n",
        "q2 = 'Asad'\n",
        "p3 = [4,5,6]\n",
        "q3 = [4,5,6]\n",
        "\n",
        "print(p1 is not q1)\n",
        "\n",
        "print(p2 is q2)\n",
        "\n",
        "print(p3 is not q3)"
      ],
      "metadata": {
        "colab": {
          "base_uri": "https://localhost:8080/"
        },
        "id": "ph6ZRNfOTVaa",
        "outputId": "534c8eb9-acc2-4bc0-8908-9f727e4a6974"
      },
      "execution_count": 5,
      "outputs": [
        {
          "output_type": "stream",
          "name": "stdout",
          "text": [
            "False\n",
            "True\n",
            "True\n"
          ]
        }
      ]
    },
    {
      "cell_type": "code",
      "source": [
        "#for Loop\n",
        "fruits = [\"apple\", \"mango\", \"banana\"]\n",
        "for x in fruits:\n",
        "  print(x)"
      ],
      "metadata": {
        "colab": {
          "base_uri": "https://localhost:8080/"
        },
        "id": "-67mTp3JTqg5",
        "outputId": "17a41532-f8a1-4c42-fd93-be919ff3d70e"
      },
      "execution_count": 6,
      "outputs": [
        {
          "output_type": "stream",
          "name": "stdout",
          "text": [
            "apple\n",
            "mango\n",
            "banana\n"
          ]
        }
      ]
    },
    {
      "cell_type": "code",
      "source": [
        "# range\n",
        "print(range(10))\n",
        "\n",
        "print(list(range(10)))\n",
        "\n",
        "print(list(range(1, 10)))\n",
        "\n",
        "print(list(range(2, 10, 3)))"
      ],
      "metadata": {
        "colab": {
          "base_uri": "https://localhost:8080/"
        },
        "id": "PmvdwM1BUN03",
        "outputId": "8183650d-0388-4170-c8ac-cd045202e7f8"
      },
      "execution_count": 7,
      "outputs": [
        {
          "output_type": "stream",
          "name": "stdout",
          "text": [
            "range(0, 10)\n",
            "[0, 1, 2, 3, 4, 5, 6, 7, 8, 9]\n",
            "[1, 2, 3, 4, 5, 6, 7, 8, 9]\n",
            "[2, 5, 8]\n"
          ]
        }
      ]
    },
    {
      "cell_type": "code",
      "source": [
        "# while \n",
        "count = 0\n",
        "while (count < 3):\n",
        "    count = count + 1\n",
        "    print(\"Hello\")"
      ],
      "metadata": {
        "colab": {
          "base_uri": "https://localhost:8080/"
        },
        "id": "VW-DQoLnVCjU",
        "outputId": "e7f5fc56-11bc-4d44-81d3-4cd15916442b"
      },
      "execution_count": 9,
      "outputs": [
        {
          "output_type": "stream",
          "name": "stdout",
          "text": [
            "Hello\n",
            "Hello\n",
            "Hello\n"
          ]
        }
      ]
    },
    {
      "cell_type": "code",
      "source": [
        ""
      ],
      "metadata": {
        "id": "Xt0fPwIxVzh_"
      },
      "execution_count": null,
      "outputs": []
    }
  ]
}